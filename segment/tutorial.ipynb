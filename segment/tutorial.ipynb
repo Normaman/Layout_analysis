version https://git-lfs.github.com/spec/v1
oid sha256:27a647422846404bdc13fa47a741afda1c56eb538b877b258102ba599b0f6831
size 43292
